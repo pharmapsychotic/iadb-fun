{
 "cells": [
  {
   "cell_type": "code",
   "execution_count": 1,
   "metadata": {},
   "outputs": [],
   "source": [
    "#@title Imports\n",
    "import os\n",
    "import random\n",
    "import sys\n",
    "import torch\n",
    "import torchvision\n",
    "\n",
    "from diffusers import AutoencoderKL\n",
    "\n",
    "if os.path.exists(\"../iadb.py\"):\n",
    "    sys.path.append(\"..\") # use local src\n",
    "else:\n",
    "    !git clone https://github.com/pharmapsychotic/iadb-fun\n",
    "    sys.path.append(\"iadb-fun\") # use github src\n",
    "\n",
    "import iadb"
   ]
  },
  {
   "cell_type": "code",
   "execution_count": 3,
   "metadata": {},
   "outputs": [],
   "source": [
    "#@title Load a pre-trained model\n",
    "config_path = \"cats/cats64.yaml\"\n",
    "model_path = \"cats/cats64_219086.ckpt\"\n",
    "\n",
    "config = iadb.config_load(config_path)\n",
    "model = iadb.model_from_config(config)\n",
    "iadb.model_load_weights(model, model_path)\n",
    "resolution = config.get('resolution', 64)\n",
    "uses_vae = config.get('vae_latents', False)\n",
    "\n",
    "device = torch.device(\"cuda\" if torch.cuda.is_available() else \"cpu\")\n",
    "model = model.to(device)\n",
    "\n",
    "if uses_vae:\n",
    "    vae = AutoencoderKL.from_pretrained(\"stabilityai/sd-vae-ft-mse\")\n",
    "    vae = vae.eval().to(device)\n",
    "else:\n",
    "    vae = None"
   ]
  },
  {
   "cell_type": "code",
   "execution_count": 7,
   "metadata": {},
   "outputs": [
    {
     "data": {
      "image/jpeg": "[encoded data removed]",
      "image/png": "[encoded data removed]",
      "text/plain": [
       "<PIL.Image.Image image mode=RGB size=64x64>"
      ]
     },
     "metadata": {},
     "output_type": "display_data"
    }
   ],
   "source": [
    "#@title Image creation\n",
    "\n",
    "#@markdown Settings\n",
    "seed = -1 #@param {type:\"integer\"}\n",
    "steps = 32 #@param {type:\"integer\"}\n",
    "batch_size = 1 #@param {type:\"integer\"}\n",
    "sampler = \"rk4\" #@param [\"euler\", \"rk4\"]\n",
    "\n",
    "# seed with given value or pick one at random if -1\n",
    "seed = random.randint(0, 2**32-1) if seed == -1 else seed\n",
    "torch.manual_seed(seed)\n",
    "\n",
    "# create random starting gaussian noise\n",
    "if vae:\n",
    "    x0 = torch.randn(batch_size, 4, resolution//8, resolution//8, device=device)\n",
    "else:\n",
    "    x0 = torch.randn(batch_size, 3, resolution, resolution, device=device)\n",
    "\n",
    "# use the model to map from distribution of gaussian noise to distribution of images\n",
    "if sampler == \"euler\":\n",
    "    samples = iadb.sample_euler(model, x0, steps)\n",
    "else:\n",
    "    samples = iadb.sample_runge_kutta(model, x0, steps)\n",
    "\n",
    "# decode VAE latents if needed\n",
    "if vae:\n",
    "    with torch.no_grad():\n",
    "        samples = vae.decode(1/0.18215 * samples).sample\n",
    "\n",
    "# remap from -1,1 to 0,1\n",
    "samples = samples.mul(0.5).add(0.5).clamp(0, 1).cpu()\n",
    "\n",
    "# display images\n",
    "for i in range(batch_size):\n",
    "    image = torchvision.transforms.functional.to_pil_image(samples[i])\n",
    "    display(image)\n"
   ]
  }
 ],
 "metadata": {
  "kernelspec": {
   "display_name": "venv",
   "language": "python",
   "name": "python3"
  },
  "language_info": {
   "codemirror_mode": {
    "name": "ipython",
    "version": 3
   },
   "file_extension": ".py",
   "mimetype": "text/x-python",
   "name": "python",
   "nbconvert_exporter": "python",
   "pygments_lexer": "ipython3",
   "version": "3.10.8"
  },
  "orig_nbformat": 4
 },
 "nbformat": 4,
 "nbformat_minor": 2
}
