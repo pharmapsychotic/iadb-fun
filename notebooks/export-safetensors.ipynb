{
 "cells": [
  {
   "cell_type": "code",
   "execution_count": 3,
   "metadata": {},
   "outputs": [],
   "source": [
    "#@title Imports\n",
    "import os\n",
    "import sys\n",
    "\n",
    "if os.path.exists(\"../iadb.py\"):\n",
    "    sys.path.append(\"..\") # use local src\n",
    "else:\n",
    "    !git clone https://github.com/pharmapsychotic/iadb-fun\n",
    "    !pip install -r iadb-fun/requirements.txt\n",
    "    sys.path.append(\"./iadb-fun\") # use github src\n",
    "\n",
    "import iadb"
   ]
  },
  {
   "cell_type": "code",
   "execution_count": 4,
   "metadata": {},
   "outputs": [],
   "source": [
    "# Load the model from a training checkpoint and save the ema weights to a safetensors file\n",
    "iadb.model_ckpt_to_safetensors(\n",
    "    \"path/to/celeba64.yaml\",                # config file\n",
    "    \"path/to/epoch=131-step=415486.ckpt\",   # training checkpoint file\n",
    "    \"path/to/celeba64_131.safetensors\",     # output safetensors file\n",
    "    fp16=True\n",
    ")"
   ]
  }
 ],
 "metadata": {
  "kernelspec": {
   "display_name": "venv",
   "language": "python",
   "name": "python3"
  },
  "language_info": {
   "codemirror_mode": {
    "name": "ipython",
    "version": 3
   },
   "file_extension": ".py",
   "mimetype": "text/x-python",
   "name": "python",
   "nbconvert_exporter": "python",
   "pygments_lexer": "ipython3",
   "version": "3.10.8"
  },
  "orig_nbformat": 4
 },
 "nbformat": 4,
 "nbformat_minor": 2
}
